{
 "cells": [
  {
   "cell_type": "code",
   "execution_count": 1,
   "metadata": {},
   "outputs": [],
   "source": [
    "import numpy as np\n",
    "\n",
    "data=np.load('data.npy')\n",
    "target=np.load('target.npy')\n",
    "\n",
    "#loading the save numpy arrays in the previous code"
   ]
  },
  {
   "cell_type": "code",
   "execution_count": 2,
   "metadata": {},
   "outputs": [],
   "source": [
    "from keras.models import Sequential\n",
    "from keras.layers import Dense,Activation,Flatten,Dropout\n",
    "from keras.layers import Conv2D,MaxPooling2D\n",
    "from keras.callbacks import ModelCheckpoint\n",
    "\n",
    "model=Sequential()\n",
    "\n",
    "model.add(Conv2D(100,(3,3),input_shape=data.shape[1:]))\n",
    "model.add(Activation('relu'))\n",
    "model.add(MaxPooling2D(pool_size=(2,2)))\n",
    "#The first CNN layer followed by Relu and MaxPooling layers\n",
    "\n",
    "model.add(Conv2D(50,(3,3)))\n",
    "model.add(Activation('relu'))\n",
    "model.add(MaxPooling2D(pool_size=(2,2)))\n",
    "#The second convolution layer followed by Relu and MaxPooling layers\n",
    "\n",
    "model.add(Flatten())\n",
    "model.add(Dropout(0.5))\n",
    "#Flatten layer to stack the output convolutions from second convolution layer\n",
    "model.add(Dense(25,activation='relu'))\n",
    "#Dense layer of 64 neurons\n",
    "model.add(Dense(2,activation='softmax'))\n",
    "#The Final layer with two outputs for two categories\n",
    "\n",
    "model.compile(loss='categorical_crossentropy',optimizer='adam',metrics=['accuracy'])"
   ]
  },
  {
   "cell_type": "code",
   "execution_count": 3,
   "metadata": {},
   "outputs": [],
   "source": [
    "from sklearn.model_selection import train_test_split\n",
    "\n",
    "train_data,test_data,train_target,test_target=train_test_split(data,target,test_size=0.1, random_state=1)"
   ]
  },
  {
   "cell_type": "code",
   "execution_count": 4,
   "metadata": {},
   "outputs": [
    {
     "output_type": "stream",
     "name": "stdout",
     "text": [
      "Epoch 1/10\n",
      "201/201 [==============================] - 147s 666ms/step - loss: 0.6693 - accuracy: 0.6027 - val_loss: 0.4567 - val_accuracy: 0.7960\n",
      "INFO:tensorflow:Assets written to: model-001.model\\assets\n",
      "Epoch 2/10\n",
      "201/201 [==============================] - 133s 659ms/step - loss: 0.4546 - accuracy: 0.7857 - val_loss: 0.3881 - val_accuracy: 0.8271\n",
      "INFO:tensorflow:Assets written to: model-002.model\\assets\n",
      "Epoch 3/10\n",
      "201/201 [==============================] - 134s 666ms/step - loss: 0.3416 - accuracy: 0.8492 - val_loss: 0.2964 - val_accuracy: 0.8769\n",
      "INFO:tensorflow:Assets written to: model-003.model\\assets\n",
      "Epoch 4/10\n",
      "201/201 [==============================] - 134s 669ms/step - loss: 0.2720 - accuracy: 0.8902 - val_loss: 0.2753 - val_accuracy: 0.8862\n",
      "INFO:tensorflow:Assets written to: model-004.model\\assets\n",
      "Epoch 5/10\n",
      "201/201 [==============================] - 139s 693ms/step - loss: 0.2384 - accuracy: 0.9055 - val_loss: 0.2539 - val_accuracy: 0.9011\n",
      "INFO:tensorflow:Assets written to: model-005.model\\assets\n",
      "Epoch 6/10\n",
      "201/201 [==============================] - 147s 732ms/step - loss: 0.2090 - accuracy: 0.9150 - val_loss: 0.2722 - val_accuracy: 0.8874\n",
      "Epoch 7/10\n",
      "201/201 [==============================] - 161s 803ms/step - loss: 0.1927 - accuracy: 0.9246 - val_loss: 0.2381 - val_accuracy: 0.9017\n",
      "INFO:tensorflow:Assets written to: model-007.model\\assets\n",
      "Epoch 8/10\n",
      "201/201 [==============================] - 149s 739ms/step - loss: 0.1554 - accuracy: 0.9416 - val_loss: 0.2691 - val_accuracy: 0.8943\n",
      "Epoch 9/10\n",
      "201/201 [==============================] - 133s 661ms/step - loss: 0.1381 - accuracy: 0.9464 - val_loss: 0.2414 - val_accuracy: 0.9061\n",
      "Epoch 10/10\n",
      "201/201 [==============================] - 132s 658ms/step - loss: 0.1192 - accuracy: 0.9574 - val_loss: 0.2457 - val_accuracy: 0.9104\n"
     ]
    }
   ],
   "source": [
    "checkpoint = ModelCheckpoint('model-{epoch:03d}.model',monitor='val_loss',verbose=0,save_best_only=True,mode='auto')\n",
    "history=model.fit(train_data,train_target,epochs=10,callbacks=[checkpoint],validation_split=0.2)"
   ]
  },
  {
   "cell_type": "code",
   "execution_count": 5,
   "metadata": {},
   "outputs": [
    {
     "output_type": "stream",
     "name": "stdout",
     "text": [
      "28/28 [==============================] - 4s 146ms/step - loss: 0.2272 - accuracy: 0.9037\n",
      "[0.2272387444972992, 0.9036954045295715]\n"
     ]
    }
   ],
   "source": [
    "print(model.evaluate(test_data,test_target))"
   ]
  }
 ],
 "metadata": {
  "kernelspec": {
   "name": "python3",
   "display_name": "Python 3.9.2 64-bit"
  },
  "language_info": {
   "codemirror_mode": {
    "name": "ipython",
    "version": 3
   },
   "file_extension": ".py",
   "mimetype": "text/x-python",
   "name": "python",
   "nbconvert_exporter": "python",
   "pygments_lexer": "ipython3",
   "version": "3.9.2"
  },
  "interpreter": {
   "hash": "ab93ff0ca4017137b2a21e30134a46b99e2c3037eaf18d050d0abb6d16fec0bc"
  }
 },
 "nbformat": 4,
 "nbformat_minor": 2
}